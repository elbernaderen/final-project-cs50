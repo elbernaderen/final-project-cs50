{
  "nbformat": 4,
  "nbformat_minor": 0,
  "metadata": {
    "colab": {
      "provenance": [],
      "collapsed_sections": [
        "fZ1qM5907WDQ",
        "xIcoobU0gyY8"
      ],
      "mount_file_id": "1rKZsJEQ0X-1lVulC6Xy77p8MRKg6UA7p",
      "authorship_tag": "ABX9TyMtf3Gel4Co6wWTrODk5p5q",
      "include_colab_link": true
    },
    "kernelspec": {
      "display_name": "Python 3",
      "name": "python3"
    },
    "language_info": {
      "name": "python"
    }
  },
  "cells": [
    {
      "cell_type": "markdown",
      "metadata": {
        "id": "view-in-github",
        "colab_type": "text"
      },
      "source": [
        "<a href=\"https://colab.research.google.com/github/elbernaderen/final-project-cs50/blob/master/final_2023.ipynb\" target=\"_parent\"><img src=\"https://colab.research.google.com/assets/colab-badge.svg\" alt=\"Open In Colab\"/></a>"
      ]
    },
    {
      "cell_type": "markdown",
      "metadata": {
        "id": "fZ1qM5907WDQ"
      },
      "source": [
        "\n",
        "# Instalación de python, librerias con mapas y flask en el servidor"
      ]
    },
    {
      "cell_type": "code",
      "metadata": {
        "id": "wrZev38P3UmC"
      },
      "source": [
        "# Important library for many geopython libraries\n",
        "!apt install gdal-bin python-gdal python3-gdal \n",
        "# Install rtree - Geopandas requirment\n",
        "!apt install python3-rtree \n",
        "# Install Geopandas\n",
        "!pip install git+git://github.com/geopandas/geopandas.git\n",
        "# Install descartes - Geopandas requirment\n",
        "!pip install descartes \n",
        "# Install Folium for Geographic data visualization\n",
        "!pip install folium\n",
        "# Install plotlyExpress\n",
        "!pip install plotly_express\n",
        "# Install flask-ngrok to run flask on colab\n",
        "!pip install flask-ngrok\n",
        "# Installjavascript on colab\n",
        "!npm install -g --unsafe-perm ijavascript zeromq\n",
        "!ijsinstall --install=global\n",
        "! pip install Flask-Session\n",
        "! pip install Flask"
      ],
      "execution_count": null,
      "outputs": []
    },
    {
      "cell_type": "markdown",
      "metadata": {
        "id": "xIcoobU0gyY8"
      },
      "source": [
        "# Base de datos"
      ]
    },
    {
      "cell_type": "code",
      "metadata": {
        "colab": {
          "base_uri": "https://localhost:8080/"
        },
        "id": "PImxWumsgiPG",
        "outputId": "8b818325-633c-43c9-ca65-67a2a152b3a3"
      },
      "source": [
        "import sqlite3\n",
        "\n",
        "conn = sqlite3.connect('/content/drive/MyDrive/final/claims.db')\n",
        "print(\"Opened database successfully\");\n",
        "\n",
        "conn.execute('''\n",
        "CREATE TABLE IF NOT EXISTS claims(id_claim INTEGER,\n",
        "                      name TEXT,\n",
        "                      address TEXT, \n",
        "                      latitude REAL, \n",
        "                      longitude REAL, \n",
        "                      date TEXT,\n",
        "                      reason TEXT,\n",
        "                      PRIMARY KEY(id_claim));''')\n",
        "\n",
        "conn.commit()\n",
        "\n",
        "print(\"Table created successfully\");\n",
        "\n",
        "conn.close()"
      ],
      "execution_count": null,
      "outputs": [
        {
          "output_type": "stream",
          "text": [
            "Opened database successfully\n",
            "Table created successfully\n"
          ],
          "name": "stdout"
        }
      ]
    },
    {
      "cell_type": "code",
      "metadata": {
        "colab": {
          "base_uri": "https://localhost:8080/"
        },
        "id": "PjQsOAVb4IpD",
        "outputId": "fd9ed21e-5b01-40da-cd27-746111d6c9f4"
      },
      "source": [
        "import sqlite3\n",
        "\n",
        "conn = sqlite3.connect('/content/drive/MyDrive/final/claims.db')\n",
        "print(\"Opened database successfully\");\n",
        "\n",
        "conn.execute('''\n",
        "CREATE TABLE IF NOT EXISTS users (id INTEGER,\n",
        "                              username TEXT,\n",
        "                              hash TEXT, \n",
        "                              PRIMARY KEY(id));''')\n",
        "conn.commit()\n",
        "\n",
        "print(\"Table created successfully\");\n",
        "\n",
        "conn.close()"
      ],
      "execution_count": null,
      "outputs": [
        {
          "output_type": "stream",
          "text": [
            "Opened database successfully\n",
            "Table created successfully\n"
          ],
          "name": "stdout"
        }
      ]
    },
    {
      "cell_type": "markdown",
      "metadata": {
        "id": "Ff_2c9A48ENJ"
      },
      "source": [
        "# aplicación"
      ]
    },
    {
      "cell_type": "markdown",
      "metadata": {
        "id": "xemZ2QWcpZ9x"
      },
      "source": [
        "https://stackoverflow.com/questions/52638926/geo-coding-for-intersection-street-using-python from here i have taken the idea for searching latitude and longitude from googlemaps"
      ]
    },
    {
      "cell_type": "code",
      "metadata": {
        "id": "JRAyIXsGZ28y"
      },
      "source": [
        "import os\n",
        "import sys\n",
        "sys.path.append('/content/drive/MyDrive/final')\n",
        "import urllib.parse\n",
        "\n",
        "from flask_ngrok import run_with_ngrok\n",
        "from flask_session import Session\n",
        "from datetime import datetime\n",
        "from tempfile import mkdtemp\n",
        "from flask import Flask, flash, redirect, render_template, request, session, make_response\n",
        "from geopandas.tools import geocode\n",
        "import folium\n",
        "from folium import Choropleth, Circle, Marker\n",
        "from folium.plugins import HeatMap, MarkerCluster\n",
        "import requests\n",
        "import sqlite3\n",
        "import re\n",
        "from werkzeug.exceptions import default_exceptions, HTTPException, InternalServerError\n",
        "from werkzeug.security import check_password_hash, generate_password_hash\n",
        "from helpers import login_required\n",
        "from pytz import timezone\n",
        "import random\n",
        "import json\n",
        "\n",
        "app = Flask(__name__,template_folder='/content/drive/MyDrive/final/template')\n",
        "run_with_ngrok(app)\n",
        "app.config[\"TEMPLATES_AUTO_RELOAD\"] = True\n",
        "\n",
        "# Ensure responses aren't cached\n",
        "@app.after_request\n",
        "def after_request(response):\n",
        "    response.headers[\"Cache-Control\"] = \"no-cache, no-store, must-revalidate\"\n",
        "    response.headers[\"Expires\"] = 0\n",
        "    response.headers[\"Pragma\"] = \"no-cache\"\n",
        "    return response\n",
        "\n",
        "app.config[\"SESSION_FILE_DIR\"] = mkdtemp()\n",
        "app.config[\"SESSION_PERMANENT\"] = False\n",
        "app.config[\"SESSION_TYPE\"] = \"filesystem\"\n",
        "Session(app)\n",
        "\n",
        "lat = -31.4186703\n",
        "long = -64.1903681\n",
        "\n",
        "\n",
        "@app.route(\"/\", methods=[\"GET\", \"POST\"])\n",
        "def index():\n",
        "        conn = sqlite3.connect('/content/drive/MyDrive/final/claims.db', check_same_thread=False)\n",
        "        m_1 = folium.Map(location = (lat,long), zoom_start = 12)\n",
        "        m_1.save('/content/drive/MyDrive/final/template/map.html')\n",
        "        if request.method == \"POST\":\n",
        "          name = request.form.get(\"name\")\n",
        "          time = datetime.now(timezone(\"America/Argentina/Cordoba\"))\n",
        "          direction = request.form.get(\"direction\")\n",
        "          reason =  request.form.get(\"reason\")\n",
        "          gps1 = loc(direction)\n",
        "          gps1[0] = float(gps1[0])\n",
        "          gps1[1] = float(gps1[1])\n",
        "          conn.execute(\"INSERT INTO claims (name, address, latitude, longitude, date, reason) VALUES(?, ?, ?, ?, ?, ?)\", [name, direction, gps1[0], gps1[1], time, reason])\n",
        "          conn.row_factory = sqlite3.Row\n",
        "          cur = conn.cursor()\n",
        "          cur.execute(''' SELECT id_claim FROM claims WHERE name = ? AND date = ? ;''', [name, time])\n",
        "          r = cur.fetchone()\n",
        "          conn.commit()\n",
        "          return render_template(\"claimed.html\",id_claim = r[\"id_claim\"], name = name)\n",
        "        else:\n",
        "          return render_template(\"index.html\")\n",
        "\n",
        "\n",
        "@app.route(\"/claims\", methods=[\"GET\", \"POST\"])\n",
        "@login_required\n",
        "def claims():\n",
        "    conn = sqlite3.connect('/content/drive/MyDrive/final/claims.db', check_same_thread=False)\n",
        "    m_1 = folium.Map(location = (lat,long), zoom_start = 12)\n",
        "    cursor = conn.execute(''' SELECT latitude, longitude, reason FROM claims;''')\n",
        "    \n",
        "    for row in cursor:\n",
        "          if row[2] == \"Sewer overflow\":\n",
        "            folium.Marker(location=[row[0],row[1]],popup = row[2],icon=folium.Icon(color='blue', prefix='fa')).add_to(m_1)\n",
        "          else:\n",
        "            folium.Marker(location=[row[0],row[1]],popup = row[2],icon=folium.Icon(color='red', prefix='fa')).add_to(m_1)        \n",
        "    conn.close()\n",
        "    m_1.save('/content/drive/MyDrive/final/template/map.html')\n",
        "    return render_template('claims.html')\n",
        "\n",
        "\n",
        "\n",
        "\n",
        "\n",
        "@app.route(\"/register\", methods=[\"GET\", \"POST\"])\n",
        "def register():\n",
        "    \"\"\"Register user\"\"\"\n",
        "    if request.method == \"POST\":\n",
        "        password = request.form.get(\"password\")\n",
        "        phash = generate_password_hash(password)\n",
        "        conn = sqlite3.connect('/content/drive/MyDrive/final/claims.db', check_same_thread=False)\n",
        "        conn.execute(\"INSERT INTO users (username, hash) VALUES(?, ?)\", [request.form.get(\"name\"), phash])\n",
        "        rows = conn.execute(\"\"\"SELECT id FROM users WHERE username = ?\"\"\", [request.form.get(\"name\")])\n",
        "        row = rows.fetchone()\n",
        "        session[\"user_id\"] = row[0]\n",
        "        conn.commit()\n",
        "        # Redirect user to home page\n",
        "        return redirect(\"/claims\")\n",
        "    else:\n",
        "        return render_template(\"register.html\")\n",
        "\n",
        "@app.route(\"/login\", methods=[\"GET\", \"POST\"])\n",
        "def login():\n",
        "    \"\"\"Log user in\"\"\"\n",
        "\n",
        "    # Forget any user_id\n",
        "    session.clear()\n",
        "\n",
        "    # User reached route via POST (as by submitting a form via POST)\n",
        "    if request.method == \"POST\":\n",
        "        conn = sqlite3.connect('/content/drive/MyDrive/final/claims.db', check_same_thread=False)\n",
        "        # Query database for username\n",
        "        conn.row_factory = sqlite3.Row\n",
        "        cur = conn.cursor()\n",
        "        cur.execute(\"\"\"SELECT * FROM users WHERE username = ?\"\"\", [request.form.get(\"name\")])\n",
        "        r = cur.fetchone()\n",
        "        conn.commit()      \n",
        "        # Ensure username exists and password is correct\n",
        "        if r[\"username\"] == request.form.get(\"name\") and check_password_hash(r[\"hash\"], request.form.get(\"password\")):\n",
        "          # Remember which user has logged in\n",
        "          session[\"user_id\"] = r[\"id\"]\n",
        "          # Redirect user to home page\n",
        "          return redirect(\"/claims\")\n",
        "        else:\n",
        "          return render_template(\"login.html\")\n",
        "        \n",
        "\n",
        "    # User reached route via GET (as by clicking a link or via redirect)\n",
        "    else:\n",
        "        return render_template(\"login.html\")\n",
        "\n",
        "\n",
        "\n",
        "@app.route(\"/logout\")\n",
        "def logout():\n",
        "    \"\"\"Log user out\"\"\"\n",
        "\n",
        "    # Forget any user_id\n",
        "    session.clear()\n",
        "\n",
        "    # Redirect user to login form\n",
        "    return redirect(\"/\")\n",
        "\n",
        "@app.route('/map')\n",
        "def map():\n",
        "    return render_template('map.html')\n",
        "\n",
        "\n",
        "@app.route(\"/ajax_index\", methods=[\"GET\", \"POST\"])\n",
        "def ajax_index():\n",
        "    if request.method == \"POST\":\n",
        "      conn = sqlite3.connect('/content/drive/MyDrive/final/claims.db', check_same_thread=False)\n",
        "      print(\"1\")\n",
        "      json_data = json.loads(request.data)\n",
        "      print(json_data)\n",
        "      gps1 = loc(json_data[\"direction\"])\n",
        "      gps1[0] = float(gps1[0])\n",
        "      gps1[1] = float(gps1[1])\n",
        "       #   time = datetime.now(timezone(\"America/Argentina/Cordoba\"))\n",
        "        #  direction = request.form.get(\"direction\")\n",
        "        #  reason =  request.form.get(\"reason\")\n",
        "       #   conn.execute(\"INSERT INTO claims (name, address, latitude, longitude, date, reason) VALUES(?, ?, ?, ?, ?, ?)\", [name, direction, gps1[0], gps1[1], time, reason])\n",
        "       #   conn.row_factory = sqlite3.Row\n",
        "      #    cur = conn.cursor()\n",
        "      #    cur.execute(''' SELECT id_claim FROM claims WHERE name = ? AND date = ? ;''', [name, time])\n",
        "      #    r = cur.fetchone()\n",
        "      #    conn.commit()\n",
        "      #    return render_template(\"claimed.html\",id_claim = r[\"id_claim\"], name = name)\n",
        "      #  else:\n",
        "\n",
        "\n",
        "      #m_1 = folium.Map(location = (lat,long), zoom_start = 12)\n",
        "      #cursor = conn.execute(''' SELECT latitude, longitude, reason FROM claims;''')\n",
        "      m_1 = folium.Map(location = (gps1[0],gps1[1]), zoom_start = 120)\n",
        "      folium.Marker(location=[gps1[0],gps1[1]]).add_to(m_1)\n",
        "      \n",
        "\n",
        "      m_1.save('/content/drive/MyDrive/final/template/map.html')\n",
        "      print(\"ok\")\n",
        "      return render_template(\"get_data.html\")    \n",
        "\n",
        "@app.route(\"/ajax\", methods=[\"GET\", \"POST\"])\n",
        "def ajax():\n",
        "    if request.method == \"POST\":\n",
        "      conn = sqlite3.connect('/content/drive/MyDrive/final/claims.db', check_same_thread=False)\n",
        "      print(\"1\")\n",
        "      reason_s = request.form.get(\"data\")\n",
        "      print(reason_s)\n",
        "      m_1 = folium.Map(location = (lat,long), zoom_start = 12)\n",
        "      cursor = conn.execute(''' SELECT latitude, longitude, reason FROM claims;''')\n",
        "      for row in cursor:\n",
        "        if reason_s == row[2]:\n",
        "          folium.Marker(location=[row[0],row[1]],popup = row[2]).add_to(m_1)\n",
        "        if reason_s == \"all\":\n",
        "          if row[2] == \"Sewer overflow\":\n",
        "            folium.Marker(location=[row[0],row[1]],popup = row[2],icon=folium.Icon(color='blue', prefix='fa')).add_to(m_1)\n",
        "          else:\n",
        "            folium.Marker(location=[row[0],row[1]],popup = row[2],icon=folium.Icon(color='red', prefix='fa')).add_to(m_1)\n",
        "      conn.close()\n",
        "      m_1.save('/content/drive/MyDrive/final/template/map.html')\n",
        "      print(\"ok\")\n",
        "      return render_template(\"get_data.html\")\n",
        "\n",
        "def loc(direction):\n",
        "    try:\n",
        "\n",
        "      res = requests.get('https://www.google.com/maps/place/'+direction+\",+Ciudad+de+Córdoba,+Argentina\", cookies={'CONSENT': 'YES+cb.20210328-17-p0.en-GB+FX+{}'.format(random.randint(100, 999))})\n",
        "      print(res.url)\n",
        "      print(res.headers)\n",
        "      return re.findall(r'll=(.*?)\" item', res.text)[0].split(',')\n",
        "    except IndexError:\n",
        "      \n",
        "      res = requests.get('https://www.google.com/maps/place/'+direction+\",+Ciudad+de+Córdoba,+Argentina\", cookies={'CONSENT': 'YES+cb.20210328-17-p0.en-GB+FX+{}'.format(random.randint(100, 999))})\n",
        "      print(res.url)\n",
        "      print(res.headers)\n",
        "      rest = re.findall(r'null,null,-(.*?)]', res.text)[0].split(',')\n",
        "      rest[0] = float(rest[0]) * -1  \n",
        "      return rest\n",
        "\n",
        "app.run()\n",
        "\n"
      ],
      "execution_count": null,
      "outputs": []
    },
    {
      "cell_type": "code",
      "metadata": {
        "id": "74DlYIE8jOk9"
      },
      "source": [],
      "execution_count": null,
      "outputs": []
    }
  ]
}