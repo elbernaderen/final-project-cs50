{
  "nbformat": 4,
  "nbformat_minor": 0,
  "metadata": {
    "colab": {
      "name": "final.ipynb",
      "provenance": [],
      "collapsed_sections": [
        "fZ1qM5907WDQ"
      ],
      "mount_file_id": "1rKZsJEQ0X-1lVulC6Xy77p8MRKg6UA7p",
      "authorship_tag": "ABX9TyN4NGgGIDoiYrTq6JQ7z7jJ",
      "include_colab_link": true
    },
    "kernelspec": {
      "display_name": "Python 3",
      "name": "python3"
    },
    "language_info": {
      "name": "python"
    }
  },
  "cells": [
    {
      "cell_type": "markdown",
      "metadata": {
        "id": "view-in-github",
        "colab_type": "text"
      },
      "source": [
        "<a href=\"https://colab.research.google.com/github/elbernaderen/final-project/blob/master/final.ipynb\" target=\"_parent\"><img src=\"https://colab.research.google.com/assets/colab-badge.svg\" alt=\"Open In Colab\"/></a>"
      ]
    },
    {
      "cell_type": "markdown",
      "metadata": {
        "id": "fZ1qM5907WDQ"
      },
      "source": [
        "\n",
        "# Instalación de python, librerias con mapas y flask en el servidor"
      ]
    },
    {
      "cell_type": "code",
      "metadata": {
        "id": "wrZev38P3UmC",
        "colab": {
          "base_uri": "https://localhost:8080/"
        },
        "outputId": "f1abe2bc-0584-4f64-f535-90fec01796ad"
      },
      "source": [
        "# Important library for many geopython libraries\n",
        "!apt install gdal-bin python-gdal python3-gdal \n",
        "# Install rtree - Geopandas requirment\n",
        "!apt install python3-rtree \n",
        "# Install Geopandas\n",
        "!pip install git+git://github.com/geopandas/geopandas.git\n",
        "# Install descartes - Geopandas requirment\n",
        "!pip install descartes \n",
        "# Install Folium for Geographic data visualization\n",
        "!pip install folium\n",
        "# Install plotlyExpress\n",
        "!pip install plotly_express\n",
        "# Install flask-ngrok to run flask on colab\n",
        "!pip install flask-ngrok"
      ],
      "execution_count": 1,
      "outputs": [
        {
          "output_type": "stream",
          "text": [
            "Reading package lists... Done\n",
            "Building dependency tree       \n",
            "Reading state information... Done\n",
            "gdal-bin is already the newest version (2.2.3+dfsg-2).\n",
            "python-gdal is already the newest version (2.2.3+dfsg-2).\n",
            "The following additional packages will be installed:\n",
            "  python3-numpy\n",
            "Suggested packages:\n",
            "  python-numpy-doc python3-nose python3-numpy-dbg\n",
            "The following NEW packages will be installed:\n",
            "  python3-gdal python3-numpy\n",
            "0 upgraded, 2 newly installed, 0 to remove and 39 not upgraded.\n",
            "Need to get 2,288 kB of archives.\n",
            "After this operation, 13.2 MB of additional disk space will be used.\n",
            "Get:1 http://archive.ubuntu.com/ubuntu bionic/main amd64 python3-numpy amd64 1:1.13.3-2ubuntu1 [1,943 kB]\n",
            "Get:2 http://archive.ubuntu.com/ubuntu bionic/universe amd64 python3-gdal amd64 2.2.3+dfsg-2 [346 kB]\n",
            "Fetched 2,288 kB in 1s (2,309 kB/s)\n",
            "Selecting previously unselected package python3-numpy.\n",
            "(Reading database ... 160772 files and directories currently installed.)\n",
            "Preparing to unpack .../python3-numpy_1%3a1.13.3-2ubuntu1_amd64.deb ...\n",
            "Unpacking python3-numpy (1:1.13.3-2ubuntu1) ...\n",
            "Selecting previously unselected package python3-gdal.\n",
            "Preparing to unpack .../python3-gdal_2.2.3+dfsg-2_amd64.deb ...\n",
            "Unpacking python3-gdal (2.2.3+dfsg-2) ...\n",
            "Setting up python3-numpy (1:1.13.3-2ubuntu1) ...\n",
            "Setting up python3-gdal (2.2.3+dfsg-2) ...\n",
            "Processing triggers for man-db (2.8.3-2ubuntu0.1) ...\n",
            "Reading package lists... Done\n",
            "Building dependency tree       \n",
            "Reading state information... Done\n",
            "The following additional packages will be installed:\n",
            "  libspatialindex-c4v5 libspatialindex-dev libspatialindex4v5\n",
            "  python3-pkg-resources\n",
            "Suggested packages:\n",
            "  python3-setuptools\n",
            "The following NEW packages will be installed:\n",
            "  libspatialindex-c4v5 libspatialindex-dev libspatialindex4v5\n",
            "  python3-pkg-resources python3-rtree\n",
            "0 upgraded, 5 newly installed, 0 to remove and 39 not upgraded.\n",
            "Need to get 671 kB of archives.\n",
            "After this operation, 3,948 kB of additional disk space will be used.\n",
            "Get:1 http://archive.ubuntu.com/ubuntu bionic/universe amd64 libspatialindex4v5 amd64 1.8.5-5 [219 kB]\n",
            "Get:2 http://archive.ubuntu.com/ubuntu bionic/universe amd64 libspatialindex-c4v5 amd64 1.8.5-5 [51.7 kB]\n",
            "Get:3 http://archive.ubuntu.com/ubuntu bionic/main amd64 python3-pkg-resources all 39.0.1-2 [98.8 kB]\n",
            "Get:4 http://archive.ubuntu.com/ubuntu bionic/universe amd64 libspatialindex-dev amd64 1.8.5-5 [285 kB]\n",
            "Get:5 http://archive.ubuntu.com/ubuntu bionic/universe amd64 python3-rtree all 0.8.3+ds-1 [16.9 kB]\n",
            "Fetched 671 kB in 1s (781 kB/s)\n",
            "Selecting previously unselected package libspatialindex4v5:amd64.\n",
            "(Reading database ... 161182 files and directories currently installed.)\n",
            "Preparing to unpack .../libspatialindex4v5_1.8.5-5_amd64.deb ...\n",
            "Unpacking libspatialindex4v5:amd64 (1.8.5-5) ...\n",
            "Selecting previously unselected package libspatialindex-c4v5:amd64.\n",
            "Preparing to unpack .../libspatialindex-c4v5_1.8.5-5_amd64.deb ...\n",
            "Unpacking libspatialindex-c4v5:amd64 (1.8.5-5) ...\n",
            "Selecting previously unselected package python3-pkg-resources.\n",
            "Preparing to unpack .../python3-pkg-resources_39.0.1-2_all.deb ...\n",
            "Unpacking python3-pkg-resources (39.0.1-2) ...\n",
            "Selecting previously unselected package libspatialindex-dev:amd64.\n",
            "Preparing to unpack .../libspatialindex-dev_1.8.5-5_amd64.deb ...\n",
            "Unpacking libspatialindex-dev:amd64 (1.8.5-5) ...\n",
            "Selecting previously unselected package python3-rtree.\n",
            "Preparing to unpack .../python3-rtree_0.8.3+ds-1_all.deb ...\n",
            "Unpacking python3-rtree (0.8.3+ds-1) ...\n",
            "Setting up libspatialindex4v5:amd64 (1.8.5-5) ...\n",
            "Setting up python3-pkg-resources (39.0.1-2) ...\n",
            "Setting up libspatialindex-c4v5:amd64 (1.8.5-5) ...\n",
            "Setting up libspatialindex-dev:amd64 (1.8.5-5) ...\n",
            "Setting up python3-rtree (0.8.3+ds-1) ...\n",
            "Processing triggers for libc-bin (2.27-3ubuntu1.2) ...\n",
            "/sbin/ldconfig.real: /usr/local/lib/python3.7/dist-packages/ideep4py/lib/libmkldnn.so.0 is not a symbolic link\n",
            "\n",
            "Collecting git+git://github.com/geopandas/geopandas.git\n",
            "  Cloning git://github.com/geopandas/geopandas.git to /tmp/pip-req-build-sixsjumg\n",
            "  Running command git clone -q git://github.com/geopandas/geopandas.git /tmp/pip-req-build-sixsjumg\n",
            "Requirement already satisfied: pandas>=0.24.0 in /usr/local/lib/python3.7/dist-packages (from geopandas==0.9.0+36.gcb88dd4) (1.1.5)\n",
            "Requirement already satisfied: shapely>=1.6 in /usr/local/lib/python3.7/dist-packages (from geopandas==0.9.0+36.gcb88dd4) (1.7.1)\n",
            "Collecting fiona>=1.8\n",
            "\u001b[?25l  Downloading https://files.pythonhosted.org/packages/9c/fc/9807326c37a6bfb2393ae3e1cca147aa74844562c4d5daa782d6e97ad2bc/Fiona-1.8.20-cp37-cp37m-manylinux1_x86_64.whl (15.4MB)\n",
            "\u001b[K     |████████████████████████████████| 15.4MB 173kB/s \n",
            "\u001b[?25hCollecting pyproj>=2.2.0\n",
            "\u001b[?25l  Downloading https://files.pythonhosted.org/packages/11/1d/1c54c672c2faf08d28fe78e15d664c048f786225bef95ad87b6c435cf69e/pyproj-3.1.0-cp37-cp37m-manylinux2010_x86_64.whl (6.6MB)\n",
            "\u001b[K     |████████████████████████████████| 6.6MB 35.9MB/s \n",
            "\u001b[?25hRequirement already satisfied: numpy>=1.15.4 in /usr/local/lib/python3.7/dist-packages (from pandas>=0.24.0->geopandas==0.9.0+36.gcb88dd4) (1.19.5)\n",
            "Requirement already satisfied: pytz>=2017.2 in /usr/local/lib/python3.7/dist-packages (from pandas>=0.24.0->geopandas==0.9.0+36.gcb88dd4) (2018.9)\n",
            "Requirement already satisfied: python-dateutil>=2.7.3 in /usr/local/lib/python3.7/dist-packages (from pandas>=0.24.0->geopandas==0.9.0+36.gcb88dd4) (2.8.1)\n",
            "Requirement already satisfied: click>=4.0 in /usr/local/lib/python3.7/dist-packages (from fiona>=1.8->geopandas==0.9.0+36.gcb88dd4) (7.1.2)\n",
            "Collecting cligj>=0.5\n",
            "  Downloading https://files.pythonhosted.org/packages/73/86/43fa9f15c5b9fb6e82620428827cd3c284aa933431405d1bcf5231ae3d3e/cligj-0.7.2-py3-none-any.whl\n",
            "Requirement already satisfied: six>=1.7 in /usr/local/lib/python3.7/dist-packages (from fiona>=1.8->geopandas==0.9.0+36.gcb88dd4) (1.15.0)\n",
            "Requirement already satisfied: certifi in /usr/local/lib/python3.7/dist-packages (from fiona>=1.8->geopandas==0.9.0+36.gcb88dd4) (2021.5.30)\n",
            "Collecting click-plugins>=1.0\n",
            "  Downloading https://files.pythonhosted.org/packages/e9/da/824b92d9942f4e472702488857914bdd50f73021efea15b4cad9aca8ecef/click_plugins-1.1.1-py2.py3-none-any.whl\n",
            "Collecting munch\n",
            "  Downloading https://files.pythonhosted.org/packages/cc/ab/85d8da5c9a45e072301beb37ad7f833cd344e04c817d97e0cc75681d248f/munch-2.5.0-py2.py3-none-any.whl\n",
            "Requirement already satisfied: setuptools in /usr/local/lib/python3.7/dist-packages (from fiona>=1.8->geopandas==0.9.0+36.gcb88dd4) (57.0.0)\n",
            "Requirement already satisfied: attrs>=17 in /usr/local/lib/python3.7/dist-packages (from fiona>=1.8->geopandas==0.9.0+36.gcb88dd4) (21.2.0)\n",
            "Building wheels for collected packages: geopandas\n",
            "  Building wheel for geopandas (setup.py) ... \u001b[?25l\u001b[?25hdone\n",
            "  Created wheel for geopandas: filename=geopandas-0.9.0+36.gcb88dd4-py2.py3-none-any.whl size=996489 sha256=212356507b25815bf56ff6f0402b205a91c95e2108a1ebd937ec05ad3416b2e6\n",
            "  Stored in directory: /tmp/pip-ephem-wheel-cache-wfcvaarp/wheels/91/24/71/376c9c67192694168352afcccc2d264248f7e2cc6192997186\n",
            "Successfully built geopandas\n",
            "Installing collected packages: cligj, click-plugins, munch, fiona, pyproj, geopandas\n",
            "Successfully installed click-plugins-1.1.1 cligj-0.7.2 fiona-1.8.20 geopandas-0.9.0+36.gcb88dd4 munch-2.5.0 pyproj-3.1.0\n",
            "Requirement already satisfied: descartes in /usr/local/lib/python3.7/dist-packages (1.1.0)\n",
            "Requirement already satisfied: matplotlib in /usr/local/lib/python3.7/dist-packages (from descartes) (3.2.2)\n",
            "Requirement already satisfied: kiwisolver>=1.0.1 in /usr/local/lib/python3.7/dist-packages (from matplotlib->descartes) (1.3.1)\n",
            "Requirement already satisfied: cycler>=0.10 in /usr/local/lib/python3.7/dist-packages (from matplotlib->descartes) (0.10.0)\n",
            "Requirement already satisfied: pyparsing!=2.0.4,!=2.1.2,!=2.1.6,>=2.0.1 in /usr/local/lib/python3.7/dist-packages (from matplotlib->descartes) (2.4.7)\n",
            "Requirement already satisfied: numpy>=1.11 in /usr/local/lib/python3.7/dist-packages (from matplotlib->descartes) (1.19.5)\n",
            "Requirement already satisfied: python-dateutil>=2.1 in /usr/local/lib/python3.7/dist-packages (from matplotlib->descartes) (2.8.1)\n",
            "Requirement already satisfied: six in /usr/local/lib/python3.7/dist-packages (from cycler>=0.10->matplotlib->descartes) (1.15.0)\n",
            "Requirement already satisfied: folium in /usr/local/lib/python3.7/dist-packages (0.8.3)\n",
            "Requirement already satisfied: requests in /usr/local/lib/python3.7/dist-packages (from folium) (2.23.0)\n",
            "Requirement already satisfied: six in /usr/local/lib/python3.7/dist-packages (from folium) (1.15.0)\n",
            "Requirement already satisfied: jinja2 in /usr/local/lib/python3.7/dist-packages (from folium) (2.11.3)\n",
            "Requirement already satisfied: branca>=0.3.0 in /usr/local/lib/python3.7/dist-packages (from folium) (0.4.2)\n",
            "Requirement already satisfied: numpy in /usr/local/lib/python3.7/dist-packages (from folium) (1.19.5)\n",
            "Requirement already satisfied: chardet<4,>=3.0.2 in /usr/local/lib/python3.7/dist-packages (from requests->folium) (3.0.4)\n",
            "Requirement already satisfied: urllib3!=1.25.0,!=1.25.1,<1.26,>=1.21.1 in /usr/local/lib/python3.7/dist-packages (from requests->folium) (1.24.3)\n",
            "Requirement already satisfied: idna<3,>=2.5 in /usr/local/lib/python3.7/dist-packages (from requests->folium) (2.10)\n",
            "Requirement already satisfied: certifi>=2017.4.17 in /usr/local/lib/python3.7/dist-packages (from requests->folium) (2021.5.30)\n",
            "Requirement already satisfied: MarkupSafe>=0.23 in /usr/local/lib/python3.7/dist-packages (from jinja2->folium) (2.0.1)\n",
            "Collecting plotly_express\n",
            "  Downloading https://files.pythonhosted.org/packages/d4/d6/8a2906f51e073a4be80cab35cfa10e7a34853e60f3ed5304ac470852a08d/plotly_express-0.4.1-py2.py3-none-any.whl\n",
            "Requirement already satisfied: scipy>=0.18 in /usr/local/lib/python3.7/dist-packages (from plotly_express) (1.4.1)\n",
            "Requirement already satisfied: statsmodels>=0.9.0 in /usr/local/lib/python3.7/dist-packages (from plotly_express) (0.10.2)\n",
            "Requirement already satisfied: pandas>=0.20.0 in /usr/local/lib/python3.7/dist-packages (from plotly_express) (1.1.5)\n",
            "Requirement already satisfied: plotly>=4.1.0 in /usr/local/lib/python3.7/dist-packages (from plotly_express) (4.4.1)\n",
            "Requirement already satisfied: patsy>=0.5 in /usr/local/lib/python3.7/dist-packages (from plotly_express) (0.5.1)\n",
            "Requirement already satisfied: numpy>=1.11 in /usr/local/lib/python3.7/dist-packages (from plotly_express) (1.19.5)\n",
            "Requirement already satisfied: python-dateutil>=2.7.3 in /usr/local/lib/python3.7/dist-packages (from pandas>=0.20.0->plotly_express) (2.8.1)\n",
            "Requirement already satisfied: pytz>=2017.2 in /usr/local/lib/python3.7/dist-packages (from pandas>=0.20.0->plotly_express) (2018.9)\n",
            "Requirement already satisfied: six in /usr/local/lib/python3.7/dist-packages (from plotly>=4.1.0->plotly_express) (1.15.0)\n",
            "Requirement already satisfied: retrying>=1.3.3 in /usr/local/lib/python3.7/dist-packages (from plotly>=4.1.0->plotly_express) (1.3.3)\n",
            "Installing collected packages: plotly-express\n",
            "Successfully installed plotly-express-0.4.1\n",
            "Collecting flask-ngrok\n",
            "  Downloading https://files.pythonhosted.org/packages/af/6c/f54cb686ad1129e27d125d182f90f52b32f284e6c8df58c1bae54fa1adbc/flask_ngrok-0.0.25-py3-none-any.whl\n",
            "Requirement already satisfied: requests in /usr/local/lib/python3.7/dist-packages (from flask-ngrok) (2.23.0)\n",
            "Requirement already satisfied: Flask>=0.8 in /usr/local/lib/python3.7/dist-packages (from flask-ngrok) (1.1.4)\n",
            "Requirement already satisfied: chardet<4,>=3.0.2 in /usr/local/lib/python3.7/dist-packages (from requests->flask-ngrok) (3.0.4)\n",
            "Requirement already satisfied: certifi>=2017.4.17 in /usr/local/lib/python3.7/dist-packages (from requests->flask-ngrok) (2021.5.30)\n",
            "Requirement already satisfied: urllib3!=1.25.0,!=1.25.1,<1.26,>=1.21.1 in /usr/local/lib/python3.7/dist-packages (from requests->flask-ngrok) (1.24.3)\n",
            "Requirement already satisfied: idna<3,>=2.5 in /usr/local/lib/python3.7/dist-packages (from requests->flask-ngrok) (2.10)\n",
            "Requirement already satisfied: Jinja2<3.0,>=2.10.1 in /usr/local/lib/python3.7/dist-packages (from Flask>=0.8->flask-ngrok) (2.11.3)\n",
            "Requirement already satisfied: Werkzeug<2.0,>=0.15 in /usr/local/lib/python3.7/dist-packages (from Flask>=0.8->flask-ngrok) (1.0.1)\n",
            "Requirement already satisfied: click<8.0,>=5.1 in /usr/local/lib/python3.7/dist-packages (from Flask>=0.8->flask-ngrok) (7.1.2)\n",
            "Requirement already satisfied: itsdangerous<2.0,>=0.24 in /usr/local/lib/python3.7/dist-packages (from Flask>=0.8->flask-ngrok) (1.1.0)\n",
            "Requirement already satisfied: MarkupSafe>=0.23 in /usr/local/lib/python3.7/dist-packages (from Jinja2<3.0,>=2.10.1->Flask>=0.8->flask-ngrok) (2.0.1)\n",
            "Installing collected packages: flask-ngrok\n",
            "Successfully installed flask-ngrok-0.0.25\n"
          ],
          "name": "stdout"
        }
      ]
    },
    {
      "cell_type": "markdown",
      "metadata": {
        "id": "xIcoobU0gyY8"
      },
      "source": [
        "# Base de datos"
      ]
    },
    {
      "cell_type": "code",
      "metadata": {
        "colab": {
          "base_uri": "https://localhost:8080/"
        },
        "id": "PImxWumsgiPG",
        "outputId": "d75cb610-8b8d-4476-c5e0-10e63acae423"
      },
      "source": [
        "import sqlite3\n",
        "\n",
        "conn = sqlite3.connect('/content/drive/MyDrive/final/claims.db')\n",
        "print(\"Opened database successfully\");\n",
        "\n",
        "conn.execute('''\n",
        "CREATE TABLE IF NOT EXISTS claims(name TEXT,\n",
        "                      address TEXT, \n",
        "                      latitude REAL, \n",
        "                      longitude REAL, \n",
        "                      date TEXT,\n",
        "                      reason TEXT);''')\n",
        "\n",
        "conn.commit()\n",
        "\n",
        "print(\"Table created successfully\");\n",
        "\n",
        "conn.close()"
      ],
      "execution_count": null,
      "outputs": [
        {
          "output_type": "stream",
          "text": [
            "Opened database successfully\n",
            "Table created successfully\n"
          ],
          "name": "stdout"
        }
      ]
    },
    {
      "cell_type": "markdown",
      "metadata": {
        "id": "Ff_2c9A48ENJ"
      },
      "source": [
        "# aplicación"
      ]
    },
    {
      "cell_type": "markdown",
      "metadata": {
        "id": "xemZ2QWcpZ9x"
      },
      "source": [
        "https://stackoverflow.com/questions/52638926/geo-coding-for-intersection-street-using-python from here i have taken the idea for searching latitude and longitude from googlemaps"
      ]
    },
    {
      "cell_type": "code",
      "metadata": {
        "colab": {
          "background_save": true,
          "base_uri": "https://localhost:8080/"
        },
        "id": "JRAyIXsGZ28y",
        "outputId": "49f13dbe-664c-4620-e13e-c606dd234de1"
      },
      "source": [
        "import os\n",
        "from flask_ngrok import run_with_ngrok\n",
        "from datetime import datetime\n",
        "from flask import Flask, flash, redirect, render_template, request, session\n",
        "from geopandas.tools import geocode\n",
        "import folium\n",
        "from folium import Choropleth, Circle, Marker\n",
        "from folium.plugins import HeatMap, MarkerCluster\n",
        "import requests\n",
        "import sqlite3\n",
        "import re\n",
        "from datetime import datetime\n",
        "\n",
        "\n",
        "\n",
        "app = Flask(__name__,template_folder='/content/drive/MyDrive/final/template')\n",
        "run_with_ngrok(app)\n",
        "# Ensure templates are auto-reloaded\n",
        "app.config[\"SESSION_PERMANENT\"] = False\n",
        "app.config[\"TEMPLATES_AUTO_RELOAD\"] = True\n",
        "app.config[\"SESSION_TYPE\"] = \"filesystem\"\n",
        "\n",
        "lat = -31.4186703\n",
        "long = -64.1903681\n",
        "\n",
        "# Ensure responses aren't cached\n",
        "@app.route(\"/\", methods=[\"GET\", \"POST\"])\n",
        "def index():\n",
        "        conn = sqlite3.connect('/content/drive/MyDrive/final/claims.db', check_same_thread=False)\n",
        "        if request.method == \"POST\":\n",
        "          name = request.form.get(\"name\")\n",
        "          direction = request.form.get(\"direction\")\n",
        "          reason =  request.form.get(\"reason\")\n",
        "          gps1 = loc(direction)\n",
        "          gps1[0] = float(gps1[0])\n",
        "          gps1[1] = float(gps1[1])\n",
        "          conn.execute(\"INSERT INTO claims (name, address, latitude, longitude, date, reason) VALUES(?, ?, ?, ?, ?, ?)\", [name, direction, gps1[0], gps1[1], datetime.now(), reason])\n",
        "          conn.commit()\n",
        "          return redirect(\"/claims\")\n",
        "        else:\n",
        "          m_1 = folium.Map(location = (lat,long), zoom_start = 12)\n",
        "          cursor = conn.execute(''' SELECT latitude, longitude, reason FROM claims;''')\n",
        "          for row in cursor:\n",
        "            folium.Marker(location=[row[0],row[1]],popup = row[2]).add_to(m_1)         \n",
        "          conn.close()\n",
        "          m_1.save('/content/drive/MyDrive/final/template/map.html')\n",
        "          return render_template(\"index.html\")\n",
        "\n",
        "\n",
        "@app.route(\"/claims\", methods=[\"GET\", \"POST\"])\n",
        "def claims():\n",
        "    conn = sqlite3.connect('/content/drive/MyDrive/final/claims.db', check_same_thread=False)\n",
        "    m_1 = folium.Map(location = (lat,long), zoom_start = 12)\n",
        "    cursor = conn.execute(''' SELECT latitude, longitude, reason FROM claims;''')\n",
        "    \n",
        "    for row in cursor:\n",
        "      folium.Marker(location=[row[0],row[1]],popup = row[2]).add_to(m_1)         \n",
        "    conn.close()\n",
        "    m_1.save('/content/drive/MyDrive/final/template/map.html')\n",
        "    return render_template('claims.html')\n",
        "\n",
        "def loc(direction):\n",
        "    try:\n",
        "      res = requests.get('https://www.google.com/maps/place/'+direction+\",+Ciudad+de+Córdoba,+Argentina\")\n",
        "      print(res.text)\n",
        "      return re.findall(r'll=(.*?)\" item', res.text)[0].split(',')\n",
        "    except IndexError:\n",
        "      res = requests.get('https://www.google.com/maps/place/'+direction+\",+Ciudad+de+Córdoba,+Argentina\")\n",
        "      print(res.text)\n",
        "      rest = re.findall(r'null,null,-(.*?)]', res.text)[0].split(',')\n",
        "      rest[0] = float(rest[0]) * -1  \n",
        "      return rest\n",
        "       \n",
        "@app.route('/map')\n",
        "def map():\n",
        "    return render_template('map.html')\n",
        "app.run()\n",
        "  \n"
      ],
      "execution_count": null,
      "outputs": [
        {
          "output_type": "stream",
          "text": [
            " * Serving Flask app \"__main__\" (lazy loading)\n",
            " * Environment: production\n",
            "\u001b[31m   WARNING: This is a development server. Do not use it in a production deployment.\u001b[0m\n",
            "\u001b[2m   Use a production WSGI server instead.\u001b[0m\n",
            " * Debug mode: off\n"
          ],
          "name": "stdout"
        },
        {
          "output_type": "stream",
          "text": [
            " * Running on http://127.0.0.1:5000/ (Press CTRL+C to quit)\n",
            "Exception in thread Thread-75:\n",
            "Traceback (most recent call last):\n",
            "  File \"/usr/lib/python3.7/threading.py\", line 926, in _bootstrap_inner\n",
            "    self.run()\n",
            "  File \"/usr/lib/python3.7/threading.py\", line 1177, in run\n",
            "    self.function(*self.args, **self.kwargs)\n",
            "  File \"/usr/local/lib/python3.7/dist-packages/flask_ngrok.py\", line 70, in start_ngrok\n",
            "    ngrok_address = _run_ngrok()\n",
            "  File \"/usr/local/lib/python3.7/dist-packages/flask_ngrok.py\", line 38, in _run_ngrok\n",
            "    tunnel_url = j['tunnels'][0]['public_url']  # Do the parsing of the get\n",
            "IndexError: list index out of range\n",
            "\n"
          ],
          "name": "stderr"
        }
      ]
    }
  ]
}